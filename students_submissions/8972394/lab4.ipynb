{
 "cells": [
  {
   "cell_type": "markdown",
   "metadata": {},
   "source": [
    "Troy Mazerolle\n",
    "\n",
    "Student Number: 8972394\n",
    "\n",
    "# Practical Lab 4 - Multivariate Linear and Polynomial Regression, and Evaluation using R-Squared, MAPE and MAE\n",
    "\n",
    "## 0: Set Up"
   ]
  },
  {
   "cell_type": "code",
   "execution_count": 56,
   "metadata": {},
   "outputs": [],
   "source": [
    "# Libraries\n",
    "from sklearn import datasets\n",
    "from sklearn import linear_model\n",
    "from sklearn.preprocessing import PolynomialFeatures\n",
    "from sklearn.metrics import mean_absolute_error, mean_absolute_percentage_error, r2_score\n",
    "from sklearn.model_selection import train_test_split\n",
    "import matplotlib.pyplot as plt\n",
    "import numpy as np\n",
    "from scipy.stats import norm\n",
    "import pandas as pd"
   ]
  },
  {
   "cell_type": "markdown",
   "metadata": {},
   "source": [
    "## 1. Get the data, and run a train-validation-test split"
   ]
  },
  {
   "cell_type": "code",
   "execution_count": 57,
   "metadata": {},
   "outputs": [],
   "source": [
    "X, y = datasets.load_diabetes(as_frame = True, scaled = False, return_X_y = True)\n",
    "X_train, X_test, y_train, y_test = train_test_split(X, y, test_size = 0.2, random_state = 8972394)"
   ]
  },
  {
   "cell_type": "markdown",
   "metadata": {},
   "source": [
    "## 2. Run a multivariate linear regression on all variables"
   ]
  },
  {
   "cell_type": "code",
   "execution_count": 58,
   "metadata": {},
   "outputs": [
    {
     "name": "stdout",
     "output_type": "stream",
     "text": [
      "Intercept: \n",
      " -277.328195244129\n",
      "Coefficients: \n",
      "age :  0.06948591018848689\n",
      "sex :  -28.255852927252803\n",
      "bmi :  5.8963034530582625\n",
      "bp :  1.2760739438930113\n",
      "s1 :  -0.40094060077873284\n",
      "s2 :  0.03828461921148224\n",
      "s3 :  -0.27552158043515507\n",
      "s4 :  7.573569716768001\n",
      "s5 :  48.770239179270575\n",
      "s6 :  0.21751683186061851\n"
     ]
    }
   ],
   "source": [
    "linmodDeg1 = linear_model.LinearRegression()\n",
    "linmodDeg1.fit(X_train, y_train)\n",
    "print('Intercept: \\n', linmodDeg1.intercept_)\n",
    "print('Coefficients: ')\n",
    "\n",
    "for i in range(len(linmodDeg1.feature_names_in_)):\n",
    "    print(linmodDeg1.feature_names_in_[i], \": \", linmodDeg1.coef_[i])"
   ]
  },
  {
   "cell_type": "markdown",
   "metadata": {},
   "source": [
    "## 3. Run a polynomial regression of the 2nd degree on the BMI feature alone\n",
    "\n",
    "Since the next part will have us run a polynomial regression on all features in the second degree, we will transform the data now.  Since the transformed data will include $BMI$ and $BMI^2$, we can simply take those columns from the complete transformed data to do this part."
   ]
  },
  {
   "cell_type": "code",
   "execution_count": 59,
   "metadata": {},
   "outputs": [
    {
     "name": "stdout",
     "output_type": "stream",
     "text": [
      "Intercept: \n",
      " -107.66023748350582\n",
      "Coefficients: \n",
      "bmi :  9.307628513272057\n",
      "bmi^2 :  0.018608621755219504\n"
     ]
    }
   ],
   "source": [
    "polyFeatsTrain = PolynomialFeatures(degree = 2, include_bias = False)\n",
    "polyFeatsTest = PolynomialFeatures(degree = 2, include_bias = False)\n",
    "\n",
    "# Transforming training features\n",
    "XTrainDeg2 = polyFeatsTrain.fit_transform(X_train)\n",
    "XTrainDeg2 = pd.DataFrame(XTrainDeg2, columns = polyFeatsTrain.get_feature_names_out())\n",
    "\n",
    "# Transforming testing features\n",
    "XTestDeg2 = polyFeatsTest.fit_transform(X_test)\n",
    "XTestDeg2 = pd.DataFrame(XTestDeg2, columns = polyFeatsTest.get_feature_names_out())\n",
    "\n",
    "# Taking the BMI subsets\n",
    "XTrainBMIDeg2 = XTrainDeg2[['bmi', 'bmi^2']]\n",
    "XTestBMIDeg2 = XTestDeg2[['bmi', 'bmi^2']]\n",
    "\n",
    "# Running regression for BMI on training data\n",
    "linmodBMIDeg2 = linear_model.LinearRegression()\n",
    "linmodBMIDeg2.fit(XTrainBMIDeg2, y_train)\n",
    "print('Intercept: \\n', linmodBMIDeg2.intercept_)\n",
    "print('Coefficients: ')\n",
    "for i in range(len(linmodBMIDeg2.feature_names_in_)):\n",
    "    print(linmodBMIDeg2.feature_names_in_[i], \": \", linmodBMIDeg2.coef_[i])\n"
   ]
  },
  {
   "cell_type": "markdown",
   "metadata": {},
   "source": [
    "## 4. Run a multivariate polynomial regression of the 2nd degree on all variables"
   ]
  },
  {
   "cell_type": "code",
   "execution_count": 60,
   "metadata": {},
   "outputs": [
    {
     "name": "stdout",
     "output_type": "stream",
     "text": [
      "Intercept: \n",
      " 4352.832474201069\n",
      "Coefficients: \n",
      "age :  -5.003445955935329\n",
      "sex :  -18.335317719926323\n",
      "bmi :  -21.410026776642862\n",
      "bp :  -5.439537306725557\n",
      "s1 :  -94.41612298894579\n",
      "s2 :  100.25001742387201\n",
      "s3 :  82.70755425111248\n",
      "s4 :  -108.47343681947235\n",
      "s5 :  -1764.9277412255062\n",
      "s6 :  -8.55451149220733\n",
      "age^2 :  0.02244091995477704\n",
      "age sex :  1.2246479671112833\n",
      "age bmi :  -0.02599582178138659\n",
      "age bp :  0.0009283660544632602\n",
      "age s1 :  0.012416271153409403\n",
      "age s2 :  -0.02520232172181494\n",
      "age s3 :  -0.005145556001358326\n",
      "age s4 :  0.17840024942551005\n",
      "age s5 :  0.02478875323999881\n",
      "age s6 :  0.02075637782203913\n",
      "sex^2 :  -55.00595306411981\n",
      "sex bmi :  1.1957909229446013\n",
      "sex bp :  0.14197660631448858\n",
      "sex s1 :  1.1492934890766426\n",
      "sex s2 :  -1.0624638613080306\n",
      "sex s3 :  -0.5922572926775227\n",
      "sex s4 :  -16.254879611910656\n",
      "sex s5 :  -3.239563165694328\n",
      "sex s6 :  0.7179554403406865\n",
      "bmi^2 :  0.041599256816089114\n",
      "bmi bp :  0.11564366964364114\n",
      "bmi s1 :  -0.06160053717014491\n",
      "bmi s2 :  0.03694001099991062\n",
      "bmi s3 :  0.05660730884360987\n",
      "bmi s4 :  -0.0038891453454912295\n",
      "bmi s5 :  1.409719192359999\n",
      "bmi s6 :  0.11757736564766219\n",
      "bp^2 :  -0.00026370454759216955\n",
      "bp s1 :  -0.051327730754593404\n",
      "bp s2 :  0.056240093936366975\n",
      "bp s3 :  0.0908563065428325\n",
      "bp s4 :  0.3501220356774297\n",
      "bp s5 :  1.0642858655377694\n",
      "bp s6 :  -0.045254183961191075\n",
      "s1^2 :  0.029219281031885203\n",
      "s1 s2 :  -0.015062224675034486\n",
      "s1 s3 :  -0.10714556247660312\n",
      "s1 s4 :  -0.7343686615144591\n",
      "s1 s5 :  11.06791414651958\n",
      "s1 s6 :  -0.028462673510631475\n",
      "s2^2 :  0.0040179214581712586\n",
      "s2 s3 :  0.019984506317456407\n",
      "s2 s4 :  -0.3711391991092512\n",
      "s2 s5 :  -11.729485338852346\n",
      "s2 s6 :  0.01820073763531127\n",
      "s3^2 :  0.09172777290299905\n",
      "s3 s4 :  1.8301655657881781\n",
      "s3 s5 :  -10.291890731713696\n",
      "s3 s6 :  0.06157467468739242\n",
      "s4^2 :  17.25535918128159\n",
      "s4 s5 :  1.3766650875509197\n",
      "s4 s6 :  0.4363679841688395\n",
      "s5^2 :  266.3776300893053\n",
      "s5 s6 :  0.4468649604072752\n",
      "s6^2 :  0.02360746687952542\n"
     ]
    }
   ],
   "source": [
    "linmodDeg2 = linear_model.LinearRegression()\n",
    "linmodDeg2.fit(XTrainDeg2, y_train)\n",
    "print('Intercept: \\n', linmodDeg2.intercept_)\n",
    "print('Coefficients: ')\n",
    "\n",
    "for i in range(len(linmodDeg2.coef_)):\n",
    "    print(polyFeatsTrain.get_feature_names_out()[i], \": \", linmodDeg2.coef_[i])"
   ]
  },
  {
   "cell_type": "markdown",
   "metadata": {},
   "source": [
    "## 5. Compare the three models by looking at R-squared, MAPE and MAE. Explain what the values mean for a non-expert and add your insight about the values of each model. \n",
    "\n",
    "First, we need predicted values, so we will run the predictions below."
   ]
  },
  {
   "cell_type": "code",
   "execution_count": 61,
   "metadata": {},
   "outputs": [],
   "source": [
    "# Degree 1, all covariates\n",
    "yPredTrainDeg1 = linmodDeg1.predict(X_train)\n",
    "yPredTestDeg1 = linmodDeg1.predict(X_test)\n",
    "\n",
    "# Degree 2, just BMI\n",
    "yPredTrainBMIDeg2 = linmodBMIDeg2.predict(XTrainBMIDeg2)\n",
    "yPredTestBMIDeg2 = linmodBMIDeg2.predict(XTestBMIDeg2)\n",
    "\n",
    "# Degree 2, all covariates\n",
    "yPredTrainDeg2 = linmodDeg2.predict(XTrainDeg2)\n",
    "yPredTestDeg2 = linmodDeg2.predict(XTestDeg2)"
   ]
  },
  {
   "cell_type": "code",
   "execution_count": 62,
   "metadata": {},
   "outputs": [
    {
     "name": "stdout",
     "output_type": "stream",
     "text": [
      "Training Scores:\n",
      "\t R2\t MAE\t MAPE\n",
      "Deg1All\t 0.52 \t 42.74 \t 0.37\n",
      "Deg2BMI\t 0.36 \t 50.41 \t 0.45\n",
      "Deg2All\t 0.61 \t 38.19 \t 0.33\n",
      "\n",
      "Testing Scores:\n",
      "\t R2\t MAE\t MAPE\n",
      "Deg1All\t 0.47 \t 45.65 \t 0.46\n",
      "Deg2BMI\t 0.27 \t 56.73 \t 0.56\n",
      "Deg2All\t 0.41 \t 46.87 \t 0.47\n"
     ]
    }
   ],
   "source": [
    "# Degree 1 accuracy metrics\n",
    "r2TrainDeg1 = r2_score(y_train, yPredTrainDeg1)\n",
    "r2TestDeg1 = r2_score(y_test, yPredTestDeg1)\n",
    "maeTrainDeg1 = mean_absolute_error(y_train, yPredTrainDeg1)\n",
    "maeTestDeg1 = mean_absolute_error(y_test, yPredTestDeg1)\n",
    "mapeTrainDeg1 = mean_absolute_percentage_error(y_train, yPredTrainDeg1)\n",
    "mapeTestDeg1 = mean_absolute_percentage_error(y_test, yPredTestDeg1)\n",
    "\n",
    "# Degree 2 BMI only accuracy metrics\n",
    "r2TrainBMIDeg2 = r2_score(y_train, yPredTrainBMIDeg2)\n",
    "r2TestBMIDeg2 = r2_score(y_test, yPredTestBMIDeg2)\n",
    "maeTrainBMIDeg2 = mean_absolute_error(y_train, yPredTrainBMIDeg2)\n",
    "maeTestBMIDeg2 = mean_absolute_error(y_test, yPredTestBMIDeg2)\n",
    "mapeTrainBMIDeg2 = mean_absolute_percentage_error(y_train, yPredTrainBMIDeg2)\n",
    "mapeTestBMIDeg2 = mean_absolute_percentage_error(y_test, yPredTestBMIDeg2)\n",
    "\n",
    "# Degree 2 accuracy metrics\n",
    "r2TrainDeg2 = r2_score(y_train, yPredTrainDeg2)\n",
    "r2TestDeg2 = r2_score(y_test, yPredTestDeg2)\n",
    "maeTrainDeg2 = mean_absolute_error(y_train, yPredTrainDeg2)\n",
    "maeTestDeg2 = mean_absolute_error(y_test, yPredTestDeg2)\n",
    "mapeTrainDeg2 = mean_absolute_percentage_error(y_train, yPredTrainDeg2)\n",
    "mapeTestDeg2 = mean_absolute_percentage_error(y_test, yPredTestDeg2)\n",
    "\n",
    "# Outputting Results\n",
    "print(\"Training Scores:\")\n",
    "print(\"\\t R2\\t MAE\\t MAPE\")\n",
    "print(\"Deg1All\\t\", round(r2TrainDeg1, 2), \"\\t\", round(maeTrainDeg1, 2), \"\\t\", round(mapeTrainDeg1, 2))\n",
    "print(\"Deg2BMI\\t\", round(r2TrainBMIDeg2, 2), \"\\t\", round(maeTrainBMIDeg2, 2), \"\\t\", round(mapeTrainBMIDeg2, 2))\n",
    "print(\"Deg2All\\t\", round(r2TrainDeg2, 2), \"\\t\", round(maeTrainDeg2, 2), \"\\t\", round(mapeTrainDeg2, 2))\n",
    "print(\"\\nTesting Scores:\")\n",
    "print(\"\\t R2\\t MAE\\t MAPE\")\n",
    "print(\"Deg1All\\t\", round(r2TestDeg1, 2), \"\\t\", round(maeTestDeg1, 2), \"\\t\", round(mapeTestDeg1, 2))\n",
    "print(\"Deg2BMI\\t\", round(r2TestBMIDeg2, 2), \"\\t\", round(maeTestBMIDeg2, 2), \"\\t\", round(mapeTestBMIDeg2, 2))\n",
    "print(\"Deg2All\\t\", round(r2TestDeg2, 2), \"\\t\", round(maeTestDeg2, 2), \"\\t\", round(mapeTestDeg2, 2))\n"
   ]
  },
  {
   "cell_type": "markdown",
   "metadata": {},
   "source": [
    "$R^2$ measures the proportion of the variance in the dependent variable that can be predicted from the independent variables in a regression model.  It is defined as $R^2 = 1 - \\frac{SS_{res}}{SS_{tot}}$, where $SS_{res}$ is the sum of squared residuals and $SS_{tot}$ is the sum of squares between the observed dependent values and the mean of the dependent variables.  The closer $R^2$ is to 1, the stronger the model is.\n",
    "\n",
    "MAE is mean-absolute error, which is the average of absolute distances between the observed and predicted values.  It is defined as $MAE = \\frac{\\sum_{i=1}^{n}|y_{i_{actual}} - y_{i_{predicted}}|}{n}$ for $n$ observations.  The model is stronger when MAE is small.\n",
    "\n",
    "MAPE is mean-absolute percentage error, which is the average of absolute distances between observed and predicted values relative to what the actual value should have been.  This provides a standardized version of MAE, since MAPE will divide the measured error by what the value should have been.  It is defined as $MAPE = \\frac{\\sum_{i=1}^{n}|\\frac{y_{i_{actual}} - y_{i_{predicted}}}{y_{i_{actual}}}|}{n}$ for $n$ observations.  The closer $MAPE$ is to 0, the stronger the model is.\n",
    "\n",
    "In all three cases, the degree 1 model with all observations has the highest $R^2$ and lowest MAE and MAPE.  Also, the degree 2 model with BMI only has the lowest $R^2$ and highest MAE and MAPE.  The degree 2 model with all observations is in the middle between the two, although the scores are a lot closer to the degree 1 model.  This suggests that the degree 1 model is the strongest model.\n",
    "\n",
    "Looking at the training error metrics, the degree 2 model performs better than the degree 1 model.  Since the testing error metrics do not show the same result, this suggests that the degree 2 model is overfitting the data, where the degree 2 model fits the training data extremely well at the cost of test accuracy.\n",
    "\n",
    "When evaluating and comparing regression models, I also like to plot histograms of their residuals.  A strong regression model should theoretically have normally distributed residuals."
   ]
  },
  {
   "cell_type": "code",
   "execution_count": 63,
   "metadata": {},
   "outputs": [
    {
     "data": {
      "image/png": "[encoded data removed]",
      "text/plain": [
       "<Figure size 640x480 with 3 Axes>"
      ]
     },
     "metadata": {},
     "output_type": "display_data"
    }
   ],
   "source": [
    "# Calculating Test Residuals\n",
    "residualsDeg1 = y_test - yPredTestDeg1\n",
    "residualsBMIDeg2 = y_test - yPredTestBMIDeg2\n",
    "residualsDeg2 = y_test - yPredTestDeg2\n",
    "\n",
    "# Plotting results\n",
    "fig, histograms = plt.subplots(1,3)\n",
    "histograms[0].hist(residualsDeg1, density = True)\n",
    "histograms[0].set_title(\"Hist of\\nDeg1 Resid\")\n",
    "histograms[1].hist(residualsBMIDeg2, density = True)\n",
    "histograms[1].set_title(\"Hist of\\nBMI Deg2 Resid\")\n",
    "histograms[2].hist(residualsDeg2, density = True)\n",
    "histograms[2].set_title(\"Hist of\\nDeg2 Resid\")\n",
    "\n",
    "# Calculating means and standard deviations to use for histograms\n",
    "residTrainMean = np.mean(residualsDeg1)\n",
    "residTrainSTD = np.std(residualsDeg1)\n",
    "residTestMean = np.mean(residualsBMIDeg2)\n",
    "residTestSTD = np.std(residualsBMIDeg2)\n",
    "residAllMean = np.mean(residualsDeg2)\n",
    "residAllSTD = np.std(residualsDeg2)\n",
    "\n",
    "# Plotting histograms of best fit\n",
    "xvals1 = np.arange(min(residualsDeg1.to_numpy()), \n",
    "                  max(residualsDeg1.to_numpy()))\n",
    "xvals2 = np.arange(min(residualsBMIDeg2.to_numpy()), \n",
    "                  max(residualsBMIDeg2.to_numpy()))\n",
    "xvals3 = np.arange(min(residualsDeg2.to_numpy()), \n",
    "                  max(residualsDeg2.to_numpy()))\n",
    "histograms[0].plot(xvals1, norm.pdf(xvals1, residTrainMean, residTrainSTD), color = \"red\")\n",
    "histograms[1].plot(xvals2, norm.pdf(xvals2, residTestMean, residTestSTD), color = \"red\")\n",
    "histograms[2].plot(xvals3, norm.pdf(xvals3, residAllMean, residAllSTD), color = \"red\");"
   ]
  },
  {
   "cell_type": "markdown",
   "metadata": {},
   "source": [
    "None of these histograms look completely normal, but the first histogram representing the degree 1 model will all features seems to be the closest.  This aligns with what we observed earlier that the degree 1 model is the strongest."
   ]
  },
  {
   "cell_type": "markdown",
   "metadata": {},
   "source": [
    "## 6.1 How many parameters are we fitting for each of the three models? Explain these values.\n",
    "\n",
    "### Model 1\n",
    "\n",
    "The first model simply fits 10 co-efficients and 1 intercept.  These values correspond to the y-intercept of the model and the coefficients of each feature."
   ]
  },
  {
   "cell_type": "code",
   "execution_count": 64,
   "metadata": {},
   "outputs": [
    {
     "name": "stdout",
     "output_type": "stream",
     "text": [
      "Intercept: \n",
      " -277.328195244129\n",
      "Coefficients: \n",
      "age :  0.06948591018848689\n",
      "sex :  -28.255852927252803\n",
      "bmi :  5.8963034530582625\n",
      "bp :  1.2760739438930113\n",
      "s1 :  -0.40094060077873284\n",
      "s2 :  0.03828461921148224\n",
      "s3 :  -0.27552158043515507\n",
      "s4 :  7.573569716768001\n",
      "s5 :  48.770239179270575\n",
      "s6 :  0.21751683186061851\n"
     ]
    }
   ],
   "source": [
    "print('Intercept: \\n', linmodDeg1.intercept_)\n",
    "print('Coefficients: ')\n",
    "for i in range(len(linmodDeg1.feature_names_in_)):\n",
    "    print(linmodDeg1.feature_names_in_[i], \": \", linmodDeg1.coef_[i])"
   ]
  },
  {
   "cell_type": "markdown",
   "metadata": {},
   "source": [
    "### Model 2\n",
    "\n",
    "The second model simply fits 2 co-efficients and 1 intercept.  In this case, the model is a polynomial fit where the given features were $BMI$ and $BMI^2$.  Therefore the co-efficients correspond to $BMI$ and $BMI^2$ respectively."
   ]
  },
  {
   "cell_type": "code",
   "execution_count": 65,
   "metadata": {},
   "outputs": [
    {
     "name": "stdout",
     "output_type": "stream",
     "text": [
      "Intercept: \n",
      " -107.66023748350582\n",
      "Coefficients: \n",
      "bmi :  9.307628513272057\n",
      "bmi^2 :  0.018608621755219504\n"
     ]
    }
   ],
   "source": [
    "print('Intercept: \\n', linmodBMIDeg2.intercept_)\n",
    "print('Coefficients: ')\n",
    "for i in range(len(linmodBMIDeg2.feature_names_in_)):\n",
    "    print(linmodBMIDeg2.feature_names_in_[i], \": \", linmodBMIDeg2.coef_[i])"
   ]
  },
  {
   "cell_type": "markdown",
   "metadata": {},
   "source": [
    "### Model 3\n",
    "\n",
    "The third model is a bit more complicated.  With a polynomial model of degree 2 including ALL features, we get the standard linear features and their corresponding quadratic forms, but also the *interaction* values between each linear feature.  For example, when we have features `age` and `bmi`, transforming the data into the second degree will give us `age^2`, `bmi^2`, and `age*bmi`.  When we take every combination of interaction terms, we get:\n",
    "* 10 linear features\n",
    "* 10 quadratic features\n",
    "* 9 + 8 + 7 + 6 + 5 + 4 + 3 + 2 + 1 = 45 interaction features\n",
    "\n",
    "for a total of 65 co-efficients.  The model also fits one intercept."
   ]
  },
  {
   "cell_type": "code",
   "execution_count": 66,
   "metadata": {},
   "outputs": [
    {
     "name": "stdout",
     "output_type": "stream",
     "text": [
      "Intercept: \n",
      " 4352.832474201069\n",
      "Coefficients: \n",
      "age :  -5.003445955935329\n",
      "sex :  -18.335317719926323\n",
      "bmi :  -21.410026776642862\n",
      "bp :  -5.439537306725557\n",
      "s1 :  -94.41612298894579\n",
      "s2 :  100.25001742387201\n",
      "s3 :  82.70755425111248\n",
      "s4 :  -108.47343681947235\n",
      "s5 :  -1764.9277412255062\n",
      "s6 :  -8.55451149220733\n",
      "age^2 :  0.02244091995477704\n",
      "age sex :  1.2246479671112833\n",
      "age bmi :  -0.02599582178138659\n",
      "age bp :  0.0009283660544632602\n",
      "age s1 :  0.012416271153409403\n",
      "age s2 :  -0.02520232172181494\n",
      "age s3 :  -0.005145556001358326\n",
      "age s4 :  0.17840024942551005\n",
      "age s5 :  0.02478875323999881\n",
      "age s6 :  0.02075637782203913\n",
      "sex^2 :  -55.00595306411981\n",
      "sex bmi :  1.1957909229446013\n",
      "sex bp :  0.14197660631448858\n",
      "sex s1 :  1.1492934890766426\n",
      "sex s2 :  -1.0624638613080306\n",
      "sex s3 :  -0.5922572926775227\n",
      "sex s4 :  -16.254879611910656\n",
      "sex s5 :  -3.239563165694328\n",
      "sex s6 :  0.7179554403406865\n",
      "bmi^2 :  0.041599256816089114\n",
      "bmi bp :  0.11564366964364114\n",
      "bmi s1 :  -0.06160053717014491\n",
      "bmi s2 :  0.03694001099991062\n",
      "bmi s3 :  0.05660730884360987\n",
      "bmi s4 :  -0.0038891453454912295\n",
      "bmi s5 :  1.409719192359999\n",
      "bmi s6 :  0.11757736564766219\n",
      "bp^2 :  -0.00026370454759216955\n",
      "bp s1 :  -0.051327730754593404\n",
      "bp s2 :  0.056240093936366975\n",
      "bp s3 :  0.0908563065428325\n",
      "bp s4 :  0.3501220356774297\n",
      "bp s5 :  1.0642858655377694\n",
      "bp s6 :  -0.045254183961191075\n",
      "s1^2 :  0.029219281031885203\n",
      "s1 s2 :  -0.015062224675034486\n",
      "s1 s3 :  -0.10714556247660312\n",
      "s1 s4 :  -0.7343686615144591\n",
      "s1 s5 :  11.06791414651958\n",
      "s1 s6 :  -0.028462673510631475\n",
      "s2^2 :  0.0040179214581712586\n",
      "s2 s3 :  0.019984506317456407\n",
      "s2 s4 :  -0.3711391991092512\n",
      "s2 s5 :  -11.729485338852346\n",
      "s2 s6 :  0.01820073763531127\n",
      "s3^2 :  0.09172777290299905\n",
      "s3 s4 :  1.8301655657881781\n",
      "s3 s5 :  -10.291890731713696\n",
      "s3 s6 :  0.06157467468739242\n",
      "s4^2 :  17.25535918128159\n",
      "s4 s5 :  1.3766650875509197\n",
      "s4 s6 :  0.4363679841688395\n",
      "s5^2 :  266.3776300893053\n",
      "s5 s6 :  0.4468649604072752\n",
      "s6^2 :  0.02360746687952542\n"
     ]
    }
   ],
   "source": [
    "print('Intercept: \\n', linmodDeg2.intercept_)\n",
    "print('Coefficients: ')\n",
    "for i in range(len(linmodDeg2.coef_)):\n",
    "    print(polyFeatsTrain.get_feature_names_out()[i], \": \", linmodDeg2.coef_[i])"
   ]
  },
  {
   "cell_type": "markdown",
   "metadata": {},
   "source": [
    "## 6.2 Which model would you choose for deployment, and why?\n",
    "\n",
    "Based on our observations in part 5, I would choose the degree 1 model with all features for deployment.  Not only does it have the strongest accuracy scores and report the best residual histogram, but it is also less computationally expensive than the degree 2 counterpart since we do not have to transform the data and the model only needs to train on 10 features instead of 65."
   ]
  }
 ],
 "metadata": {
  "kernelspec": {
   "display_name": "CSCN8010_classic_ml",
   "language": "python",
   "name": "python3"
  },
  "language_info": {
   "codemirror_mode": {
    "name": "ipython",
    "version": 3
   },
   "file_extension": ".py",
   "mimetype": "text/x-python",
   "name": "python",
   "nbconvert_exporter": "python",
   "pygments_lexer": "ipython3",
   "version": "3.11.5"
  },
  "orig_nbformat": 4
 },
 "nbformat": 4,
 "nbformat_minor": 2
}

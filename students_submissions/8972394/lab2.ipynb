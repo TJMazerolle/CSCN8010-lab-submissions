{
 "cells": [
  {
   "cell_type": "markdown",
   "metadata": {},
   "source": [
    "# Practical Lab 2 - Data Visualization and Publication"
   ]
  },
  {
   "cell_type": "code",
   "execution_count": 1,
   "metadata": {},
   "outputs": [],
   "source": [
    "import numpy as np\n",
    "import plotly.graph_objects as go\n",
    "import pandas as pd\n",
    "from datetime import datetime\n",
    "import matplotlib as mpl\n",
    "import matplotlib.pyplot as plt\n",
    "import seaborn as sb"
   ]
  },
  {
   "cell_type": "markdown",
   "metadata": {},
   "source": [
    "## Plot 1: Stock Prices using plotly\n",
    "\n",
    "For my first graph I want to demonstrate how to use plotly to plot the historical prices of a stock using a candlestick chart.  I chose to do this because one of my goals for this program is to learn how to apply machine learning methods to financial markets.\n",
    "\n",
    "For this demonstration, I will be using the historical price data of Unity, which is a software used for game development.  I chose Unity simply because I am currently learning how to use Unity."
   ]
  },
  {
   "cell_type": "code",
   "execution_count": 2,
   "metadata": {},
   "outputs": [
    {
     "data": {
      "application/vnd.plotly.v1+json": {
       "config": {
        "plotlyServerURL": "https://plot.ly"
       },
       "data": [
        {
         "close": [
          41.580002,
          40.549999,
          40.459999,
          39.959999,
          43.82,
          43.689999,
          46.84,
          44.34,
          46.080002,
          47.130001,
          48.5,
          44.439999,
          44.490002,
          43.549999,
          43.200001,
          43.330002,
          43.209999,
          45.389999,
          45.84,
          45.299999,
          41.450001,
          41.119999,
          40.169998,
          39.950001,
          38.889999,
          37.560001,
          37.09,
          36.630001,
          36.540001,
          35.32,
          34.700001,
          33.84,
          34.41,
          34.509998,
          34.049999,
          34.630001,
          33.849998,
          34.720001,
          34.689999,
          36.970001,
          37.470001,
          37.07,
          37.09,
          38.580002,
          39.290001,
          38.009998,
          37.68,
          38.02,
          38.970001,
          36.82,
          36.349998
         ],
         "high": [
          43.93,
          40.790001,
          41.419998,
          40.200001,
          44.040001,
          44.779999,
          47.860001,
          48.099998,
          46.494999,
          47.68,
          50.080002,
          47.599998,
          45.799999,
          45.16,
          44.740002,
          44.080002,
          47.16,
          45.575001,
          47.150002,
          45.724998,
          44.029999,
          42.950001,
          42.080002,
          40.25,
          39.009998,
          38.720001,
          38.525002,
          37,
          36.560001,
          36.32,
          35.610001,
          34.84,
          34.709999,
          34.900002,
          35.09,
          34.990002,
          35.240002,
          34.880001,
          35.627998,
          37.099998,
          37.945,
          37.599998,
          38.150002,
          38.794998,
          40.049999,
          38.130001,
          39.040001,
          38.689999,
          39.744999,
          38.720001,
          37.470001
         ],
         "low": [
          41.439999,
          39.665001,
          40.349998,
          38.639999,
          40.200001,
          42.299999,
          44.25,
          44.025002,
          43.740002,
          44.959999,
          47.200001,
          44.174999,
          44.380001,
          42.869999,
          43.099998,
          42.419998,
          42.720001,
          43.900002,
          45,
          44.200001,
          41.080002,
          40.255001,
          39.900002,
          38.790001,
          37.619999,
          37.259998,
          36.709999,
          36.009998,
          35.220001,
          35.060001,
          34.639999,
          33.619999,
          32.900002,
          33.98,
          33.669998,
          33.970001,
          33.494999,
          33.860001,
          34.105,
          34.59,
          36.459999,
          36.619999,
          37.025002,
          36.439999,
          38.290001,
          36.799999,
          37.41,
          37.5,
          37.389999,
          35.830002,
          35.259998
         ],
         "open": [
          43.299999,
          40.5,
          40.68,
          40,
          40.389999,
          44.700001,
          44.400002,
          47.110001,
          44.860001,
          45.869999,
          48.23,
          47.040001,
          45.264999,
          44.959999,
          44.029999,
          42.950001,
          45.330002,
          44.32,
          46.48,
          45.23,
          43.650002,
          42.619999,
          41.715,
          40.02,
          38.709999,
          38.529999,
          37.810001,
          36.380001,
          35.880001,
          36.200001,
          34.904999,
          34.799999,
          32.959999,
          34.529999,
          35,
          34.110001,
          35.150002,
          33.900002,
          35.450001,
          34.68,
          36.919998,
          37.169998,
          37.5,
          36.740002,
          38.400002,
          37.950001,
          38.299999,
          38.25,
          37.439999,
          38.18,
          35.514999
         ],
         "type": "candlestick",
         "x": [
          "2023-07-05",
          "2023-07-06",
          "2023-07-07",
          "2023-07-10",
          "2023-07-11",
          "2023-07-12",
          "2023-07-13",
          "2023-07-14",
          "2023-07-17",
          "2023-07-18",
          "2023-07-19",
          "2023-07-20",
          "2023-07-21",
          "2023-07-24",
          "2023-07-25",
          "2023-07-26",
          "2023-07-27",
          "2023-07-28",
          "2023-07-31",
          "2023-08-01",
          "2023-08-02",
          "2023-08-03",
          "2023-08-04",
          "2023-08-07",
          "2023-08-08",
          "2023-08-09",
          "2023-08-10",
          "2023-08-11",
          "2023-08-14",
          "2023-08-15",
          "2023-08-16",
          "2023-08-17",
          "2023-08-18",
          "2023-08-21",
          "2023-08-22",
          "2023-08-23",
          "2023-08-24",
          "2023-08-25",
          "2023-08-28",
          "2023-08-29",
          "2023-08-30",
          "2023-08-31",
          "2023-09-01",
          "2023-09-05",
          "2023-09-06",
          "2023-09-07",
          "2023-09-08",
          "2023-09-11",
          "2023-09-12",
          "2023-09-13",
          "2023-09-14"
         ]
        }
       ],
       "layout": {
        "template": {
         "data": {
          "bar": [
           {
            "error_x": {
             "color": "#2a3f5f"
            },
            "error_y": {
             "color": "#2a3f5f"
            },
            "marker": {
             "line": {
              "color": "#E5ECF6",
              "width": 0.5
             },
             "pattern": {
              "fillmode": "overlay",
              "size": 10,
              "solidity": 0.2
             }
            },
            "type": "bar"
           }
          ],
          "barpolar": [
           {
            "marker": {
             "line": {
              "color": "#E5ECF6",
              "width": 0.5
             },
             "pattern": {
              "fillmode": "overlay",
              "size": 10,
              "solidity": 0.2
             }
            },
            "type": "barpolar"
           }
          ],
          "carpet": [
           {
            "aaxis": {
             "endlinecolor": "#2a3f5f",
             "gridcolor": "white",
             "linecolor": "white",
             "minorgridcolor": "white",
             "startlinecolor": "#2a3f5f"
            },
            "baxis": {
             "endlinecolor": "#2a3f5f",
             "gridcolor": "white",
             "linecolor": "white",
             "minorgridcolor": "white",
             "startlinecolor": "#2a3f5f"
            },
            "type": "carpet"
           }
          ],
          "choropleth": [
           {
            "colorbar": {
             "outlinewidth": 0,
             "ticks": ""
            },
            "type": "choropleth"
           }
          ],
          "contour": [
           {
            "colorbar": {
             "outlinewidth": 0,
             "ticks": ""
            },
            "colorscale": [
             [
              0,
              "#0d0887"
             ],
             [
              0.1111111111111111,
              "#46039f"
             ],
             [
              0.2222222222222222,
              "#7201a8"
             ],
             [
              0.3333333333333333,
              "#9c179e"
             ],
             [
              0.4444444444444444,
              "#bd3786"
             ],
             [
              0.5555555555555556,
              "#d8576b"
             ],
             [
              0.6666666666666666,
              "#ed7953"
             ],
             [
              0.7777777777777778,
              "#fb9f3a"
             ],
             [
              0.8888888888888888,
              "#fdca26"
             ],
             [
              1,
              "#f0f921"
             ]
            ],
            "type": "contour"
           }
          ],
          "contourcarpet": [
           {
            "colorbar": {
             "outlinewidth": 0,
             "ticks": ""
            },
            "type": "contourcarpet"
           }
          ],
          "heatmap": [
           {
            "colorbar": {
             "outlinewidth": 0,
             "ticks": ""
            },
            "colorscale": [
             [
              0,
              "#0d0887"
             ],
             [
              0.1111111111111111,
              "#46039f"
             ],
             [
              0.2222222222222222,
              "#7201a8"
             ],
             [
              0.3333333333333333,
              "#9c179e"
             ],
             [
              0.4444444444444444,
              "#bd3786"
             ],
             [
              0.5555555555555556,
              "#d8576b"
             ],
             [
              0.6666666666666666,
              "#ed7953"
             ],
             [
              0.7777777777777778,
              "#fb9f3a"
             ],
             [
              0.8888888888888888,
              "#fdca26"
             ],
             [
              1,
              "#f0f921"
             ]
            ],
            "type": "heatmap"
           }
          ],
          "heatmapgl": [
           {
            "colorbar": {
             "outlinewidth": 0,
             "ticks": ""
            },
            "colorscale": [
             [
              0,
              "#0d0887"
             ],
             [
              0.1111111111111111,
              "#46039f"
             ],
             [
              0.2222222222222222,
              "#7201a8"
             ],
             [
              0.3333333333333333,
              "#9c179e"
             ],
             [
              0.4444444444444444,
              "#bd3786"
             ],
             [
              0.5555555555555556,
              "#d8576b"
             ],
             [
              0.6666666666666666,
              "#ed7953"
             ],
             [
              0.7777777777777778,
              "#fb9f3a"
             ],
             [
              0.8888888888888888,
              "#fdca26"
             ],
             [
              1,
              "#f0f921"
             ]
            ],
            "type": "heatmapgl"
           }
          ],
          "histogram": [
           {
            "marker": {
             "pattern": {
              "fillmode": "overlay",
              "size": 10,
              "solidity": 0.2
             }
            },
            "type": "histogram"
           }
          ],
          "histogram2d": [
           {
            "colorbar": {
             "outlinewidth": 0,
             "ticks": ""
            },
            "colorscale": [
             [
              0,
              "#0d0887"
             ],
             [
              0.1111111111111111,
              "#46039f"
             ],
             [
              0.2222222222222222,
              "#7201a8"
             ],
             [
              0.3333333333333333,
              "#9c179e"
             ],
             [
              0.4444444444444444,
              "#bd3786"
             ],
             [
              0.5555555555555556,
              "#d8576b"
             ],
             [
              0.6666666666666666,
              "#ed7953"
             ],
             [
              0.7777777777777778,
              "#fb9f3a"
             ],
             [
              0.8888888888888888,
              "#fdca26"
             ],
             [
              1,
              "#f0f921"
             ]
            ],
            "type": "histogram2d"
           }
          ],
          "histogram2dcontour": [
           {
            "colorbar": {
             "outlinewidth": 0,
             "ticks": ""
            },
            "colorscale": [
             [
              0,
              "#0d0887"
             ],
             [
              0.1111111111111111,
              "#46039f"
             ],
             [
              0.2222222222222222,
              "#7201a8"
             ],
             [
              0.3333333333333333,
              "#9c179e"
             ],
             [
              0.4444444444444444,
              "#bd3786"
             ],
             [
              0.5555555555555556,
              "#d8576b"
             ],
             [
              0.6666666666666666,
              "#ed7953"
             ],
             [
              0.7777777777777778,
              "#fb9f3a"
             ],
             [
              0.8888888888888888,
              "#fdca26"
             ],
             [
              1,
              "#f0f921"
             ]
            ],
            "type": "histogram2dcontour"
           }
          ],
          "mesh3d": [
           {
            "colorbar": {
             "outlinewidth": 0,
             "ticks": ""
            },
            "type": "mesh3d"
           }
          ],
          "parcoords": [
           {
            "line": {
             "colorbar": {
              "outlinewidth": 0,
              "ticks": ""
             }
            },
            "type": "parcoords"
           }
          ],
          "pie": [
           {
            "automargin": true,
            "type": "pie"
           }
          ],
          "scatter": [
           {
            "fillpattern": {
             "fillmode": "overlay",
             "size": 10,
             "solidity": 0.2
            },
            "type": "scatter"
           }
          ],
          "scatter3d": [
           {
            "line": {
             "colorbar": {
              "outlinewidth": 0,
              "ticks": ""
             }
            },
            "marker": {
             "colorbar": {
              "outlinewidth": 0,
              "ticks": ""
             }
            },
            "type": "scatter3d"
           }
          ],
          "scattercarpet": [
           {
            "marker": {
             "colorbar": {
              "outlinewidth": 0,
              "ticks": ""
             }
            },
            "type": "scattercarpet"
           }
          ],
          "scattergeo": [
           {
            "marker": {
             "colorbar": {
              "outlinewidth": 0,
              "ticks": ""
             }
            },
            "type": "scattergeo"
           }
          ],
          "scattergl": [
           {
            "marker": {
             "colorbar": {
              "outlinewidth": 0,
              "ticks": ""
             }
            },
            "type": "scattergl"
           }
          ],
          "scattermapbox": [
           {
            "marker": {
             "colorbar": {
              "outlinewidth": 0,
              "ticks": ""
             }
            },
            "type": "scattermapbox"
           }
          ],
          "scatterpolar": [
           {
            "marker": {
             "colorbar": {
              "outlinewidth": 0,
              "ticks": ""
             }
            },
            "type": "scatterpolar"
           }
          ],
          "scatterpolargl": [
           {
            "marker": {
             "colorbar": {
              "outlinewidth": 0,
              "ticks": ""
             }
            },
            "type": "scatterpolargl"
           }
          ],
          "scatterternary": [
           {
            "marker": {
             "colorbar": {
              "outlinewidth": 0,
              "ticks": ""
             }
            },
            "type": "scatterternary"
           }
          ],
          "surface": [
           {
            "colorbar": {
             "outlinewidth": 0,
             "ticks": ""
            },
            "colorscale": [
             [
              0,
              "#0d0887"
             ],
             [
              0.1111111111111111,
              "#46039f"
             ],
             [
              0.2222222222222222,
              "#7201a8"
             ],
             [
              0.3333333333333333,
              "#9c179e"
             ],
             [
              0.4444444444444444,
              "#bd3786"
             ],
             [
              0.5555555555555556,
              "#d8576b"
             ],
             [
              0.6666666666666666,
              "#ed7953"
             ],
             [
              0.7777777777777778,
              "#fb9f3a"
             ],
             [
              0.8888888888888888,
              "#fdca26"
             ],
             [
              1,
              "#f0f921"
             ]
            ],
            "type": "surface"
           }
          ],
          "table": [
           {
            "cells": {
             "fill": {
              "color": "#EBF0F8"
             },
             "line": {
              "color": "white"
             }
            },
            "header": {
             "fill": {
              "color": "#C8D4E3"
             },
             "line": {
              "color": "white"
             }
            },
            "type": "table"
           }
          ]
         },
         "layout": {
          "annotationdefaults": {
           "arrowcolor": "#2a3f5f",
           "arrowhead": 0,
           "arrowwidth": 1
          },
          "autotypenumbers": "strict",
          "coloraxis": {
           "colorbar": {
            "outlinewidth": 0,
            "ticks": ""
           }
          },
          "colorscale": {
           "diverging": [
            [
             0,
             "#8e0152"
            ],
            [
             0.1,
             "#c51b7d"
            ],
            [
             0.2,
             "#de77ae"
            ],
            [
             0.3,
             "#f1b6da"
            ],
            [
             0.4,
             "#fde0ef"
            ],
            [
             0.5,
             "#f7f7f7"
            ],
            [
             0.6,
             "#e6f5d0"
            ],
            [
             0.7,
             "#b8e186"
            ],
            [
             0.8,
             "#7fbc41"
            ],
            [
             0.9,
             "#4d9221"
            ],
            [
             1,
             "#276419"
            ]
           ],
           "sequential": [
            [
             0,
             "#0d0887"
            ],
            [
             0.1111111111111111,
             "#46039f"
            ],
            [
             0.2222222222222222,
             "#7201a8"
            ],
            [
             0.3333333333333333,
             "#9c179e"
            ],
            [
             0.4444444444444444,
             "#bd3786"
            ],
            [
             0.5555555555555556,
             "#d8576b"
            ],
            [
             0.6666666666666666,
             "#ed7953"
            ],
            [
             0.7777777777777778,
             "#fb9f3a"
            ],
            [
             0.8888888888888888,
             "#fdca26"
            ],
            [
             1,
             "#f0f921"
            ]
           ],
           "sequentialminus": [
            [
             0,
             "#0d0887"
            ],
            [
             0.1111111111111111,
             "#46039f"
            ],
            [
             0.2222222222222222,
             "#7201a8"
            ],
            [
             0.3333333333333333,
             "#9c179e"
            ],
            [
             0.4444444444444444,
             "#bd3786"
            ],
            [
             0.5555555555555556,
             "#d8576b"
            ],
            [
             0.6666666666666666,
             "#ed7953"
            ],
            [
             0.7777777777777778,
             "#fb9f3a"
            ],
            [
             0.8888888888888888,
             "#fdca26"
            ],
            [
             1,
             "#f0f921"
            ]
           ]
          },
          "colorway": [
           "#636efa",
           "#EF553B",
           "#00cc96",
           "#ab63fa",
           "#FFA15A",
           "#19d3f3",
           "#FF6692",
           "#B6E880",
           "#FF97FF",
           "#FECB52"
          ],
          "font": {
           "color": "#2a3f5f"
          },
          "geo": {
           "bgcolor": "white",
           "lakecolor": "white",
           "landcolor": "#E5ECF6",
           "showlakes": true,
           "showland": true,
           "subunitcolor": "white"
          },
          "hoverlabel": {
           "align": "left"
          },
          "hovermode": "closest",
          "mapbox": {
           "style": "light"
          },
          "paper_bgcolor": "white",
          "plot_bgcolor": "#E5ECF6",
          "polar": {
           "angularaxis": {
            "gridcolor": "white",
            "linecolor": "white",
            "ticks": ""
           },
           "bgcolor": "#E5ECF6",
           "radialaxis": {
            "gridcolor": "white",
            "linecolor": "white",
            "ticks": ""
           }
          },
          "scene": {
           "xaxis": {
            "backgroundcolor": "#E5ECF6",
            "gridcolor": "white",
            "gridwidth": 2,
            "linecolor": "white",
            "showbackground": true,
            "ticks": "",
            "zerolinecolor": "white"
           },
           "yaxis": {
            "backgroundcolor": "#E5ECF6",
            "gridcolor": "white",
            "gridwidth": 2,
            "linecolor": "white",
            "showbackground": true,
            "ticks": "",
            "zerolinecolor": "white"
           },
           "zaxis": {
            "backgroundcolor": "#E5ECF6",
            "gridcolor": "white",
            "gridwidth": 2,
            "linecolor": "white",
            "showbackground": true,
            "ticks": "",
            "zerolinecolor": "white"
           }
          },
          "shapedefaults": {
           "line": {
            "color": "#2a3f5f"
           }
          },
          "ternary": {
           "aaxis": {
            "gridcolor": "white",
            "linecolor": "white",
            "ticks": ""
           },
           "baxis": {
            "gridcolor": "white",
            "linecolor": "white",
            "ticks": ""
           },
           "bgcolor": "#E5ECF6",
           "caxis": {
            "gridcolor": "white",
            "linecolor": "white",
            "ticks": ""
           }
          },
          "title": {
           "x": 0.05
          },
          "xaxis": {
           "automargin": true,
           "gridcolor": "white",
           "linecolor": "white",
           "ticks": "",
           "title": {
            "standoff": 15
           },
           "zerolinecolor": "white",
           "zerolinewidth": 2
          },
          "yaxis": {
           "automargin": true,
           "gridcolor": "white",
           "linecolor": "white",
           "ticks": "",
           "title": {
            "standoff": 15
           },
           "zerolinecolor": "white",
           "zerolinewidth": 2
          }
         }
        },
        "title": {
         "text": "Unity Stock Prices"
        },
        "xaxis": {
         "rangeslider": {
          "visible": false
         },
         "title": {
          "text": "Date"
         }
        },
        "yaxis": {
         "title": {
          "text": "Price"
         }
        }
       }
      }
     },
     "metadata": {},
     "output_type": "display_data"
    }
   ],
   "source": [
    "unity = pd.read_csv(\"U.csv\")\n",
    "\n",
    "fig = go.Figure(data = [go.Candlestick(x = unity['Date'],\n",
    "                open = unity['Open'],\n",
    "                high = unity['High'],\n",
    "                low = unity['Low'],\n",
    "                close = unity['Close'])])\n",
    "\n",
    "fig.update_layout(\n",
    "    title = \"Unity Stock Prices\",\n",
    "    yaxis_title = \"Price\",\n",
    "    xaxis_title = \"Date\",\n",
    "    xaxis_rangeslider_visible = False\n",
    ")\n",
    "fig.show()"
   ]
  },
  {
   "cell_type": "markdown",
   "metadata": {},
   "source": [
    "A candlestick can be read as follows:\n",
    "* The tops and bottoms of each stick represent the highest and lowest price that the stock reached during that period.  Since this is a daily time frame, each top and bottom represents the highest and lowest price the stock moved that day.\n",
    "* The bodies of each candlestick are a bit more dynamic.  Each end of the bodies represents the open price or the close price of the stock during that period.  Since this is a daily time frame, the ends of the bodies represent the price that the stock started the day with or the price that the stock finished the day with.\n",
    "  *  If the candlestick is green, that means that the bottom of the body is the opening price, and the top of the body is the closing price.  The candlestick being green means that the stock ended the day at a higher price than the stock started the day with.\n",
    "  * If the candlestick is red, that means that the top of the bosy is the opening price, and the bottom of the body is the closing price.  The candlestick being red means that the stock ended the day at a lower price than the stock started the day with."
   ]
  },
  {
   "cell_type": "markdown",
   "metadata": {},
   "source": [
    "## Plot 2: Plotting Relative Strength Index with matplotlib\n",
    "\n",
    "The Relative Strength Index (RSI) is an indicator that measures how overbought or oversold a stock is.  The formula for RSI is $RSI = 100 - [\\frac{100}{1 + \\frac{n_{up}}{n_{down}}}]$, where $n_{up}$ and $n_{down}$ are the average gains and average losses respectively over the period.  A general rule-of-thumb is that when the RSI is above 70, the stock is considered overbought, and it is a signal that the stock price will start going down.  Conversely, when the RSI is below 30, the stock is considered oversold, and it is a signla that the stock price will start increasing.\n",
    "\n",
    "First, we need to write a function that takes in the data of the stock and the reference period, and outputs the RSI values:"
   ]
  },
  {
   "cell_type": "code",
   "execution_count": 3,
   "metadata": {},
   "outputs": [],
   "source": [
    "def rsi(stockData, period):\n",
    "\n",
    "    open = stockData['Open']\n",
    "    close = stockData['Close']\n",
    "    returns = (close - open)/close\n",
    "\n",
    "    intialReturns = returns[0:period]\n",
    "    avgGain = sum(intialReturns[intialReturns >= 0])/period\n",
    "    avgLoss = abs(sum(intialReturns[intialReturns < 0]))/period\n",
    "    rsi1 = 100 - (100 / (1 + avgGain / avgLoss))\n",
    "    rsIndexes = np.array([])\n",
    "\n",
    "    for i in range(period, len(returns) - 1):\n",
    "        intialReturns = returns[(i - period):i]\n",
    "        avgGain = sum(intialReturns[intialReturns >= 0])/period\n",
    "        avgLoss = abs(sum(intialReturns[intialReturns < 0]))/period\n",
    "        rsIndexes = np.append(rsIndexes, 100 - (100 / (1 + avgGain / avgLoss)))\n",
    "    \n",
    "    return rsIndexes\n",
    "\n",
    "rsiValues = rsi(unity, 10)"
   ]
  },
  {
   "cell_type": "markdown",
   "metadata": {},
   "source": [
    "Using matplotlib, we can now plot the relative strength index of Unity stock.  We will also add horizontal lines at $RSI = 30$ and $RSI = 70$ to indicate when the stock might be oversold or overbought."
   ]
  },
  {
   "cell_type": "code",
   "execution_count": 4,
   "metadata": {},
   "outputs": [
    {
     "data": {
      "text/plain": [
       "Text(0, 0.5, 'RSI')"
      ]
     },
     "execution_count": 4,
     "metadata": {},
     "output_type": "execute_result"
    },
    {
     "data": {
      "image/png": "[encoded data removed]",
      "text/plain": [
       "<Figure size 640x480 with 1 Axes>"
      ]
     },
     "metadata": {},
     "output_type": "display_data"
    }
   ],
   "source": [
    "dates = unity['Date'][(len(unity['Date']) - len(rsiValues)):len(unity['Date'])] # Getting the dates that correspond with the values in RSI\n",
    "\n",
    "fig, ax = plt.subplots()  \n",
    "ax.plot(dates, rsiValues)\n",
    "plt.axhline(y = 70, color = 'g', linestyle = '--', linewidth = 2)\n",
    "plt.axhline(y = 30, color = 'r', linestyle = '--', linewidth = 2) \n",
    "plt.title(\"Relative Strength Index of Unity\")\n",
    "plt.xlabel('Date') \n",
    "plt.ylabel('RSI') "
   ]
  },
  {
   "cell_type": "markdown",
   "metadata": {},
   "source": [
    "The dates are difficult to read, but we can see that the stock was oversold towards the middle.  The stock is also currently overbought, which suggests that the price might go down."
   ]
  },
  {
   "cell_type": "markdown",
   "metadata": {},
   "source": [
    "## Plot 3: Analysis of Returns with Seaborn\n",
    "\n",
    "For my next chart, I want to compare the total gains and total losses between Microsoft and AMD.  I chose these two stocks because Microsoft is considered to be a low-risk stock, while AMD is considered to be a high-risk stock.  Using a bar chart, I want to visually show the differences between profits and losses.\n",
    "\n",
    "In order to plot this efficiently, we need to organize the data so that the barplot function can read everything easily.  To do this, we will:\n",
    "* Load in the data for Microsoft and AMD\n",
    "* Calculate the returns for each stock and put the results into their own data frame\n",
    "* Add a column that indicates whether the price corresponds to MSFT or AMD\n",
    "  * The barplot function will use this column to determine how to group the bars\n",
    "* Add a column that indicates whether the stock price was positive or negative for that observation\n",
    "  * The barplot function will use this column to determine how to split the grouped bars\n",
    "* Mutate the returns so that they are all positive\n",
    "  * This is just so the \"POSITIVE\" and \"NEGATIVE\" bars still go in the same direction"
   ]
  },
  {
   "cell_type": "code",
   "execution_count": 5,
   "metadata": {},
   "outputs": [
    {
     "name": "stdout",
     "output_type": "stream",
     "text": [
      "    Symbol    Return Direction\n",
      "0     MSFT  0.001965  POSITIVE\n",
      "1     MSFT  0.008455  POSITIVE\n",
      "2     MSFT  0.001570  POSITIVE\n",
      "3     MSFT  0.021779  NEGATIVE\n",
      "4     MSFT  0.013074  POSITIVE\n",
      "..     ...       ...       ...\n",
      "497    AMD  0.018636  NEGATIVE\n",
      "498    AMD  0.010653  POSITIVE\n",
      "499    AMD  0.024834  POSITIVE\n",
      "500    AMD  0.016601  NEGATIVE\n",
      "501    AMD  0.043179  NEGATIVE\n",
      "\n",
      "[502 rows x 3 columns]\n"
     ]
    }
   ],
   "source": [
    "microsoft = pd.read_csv(\"MSFT.csv\")\n",
    "amd = pd.read_csv(\"AMD.csv\")\n",
    "\n",
    "microsoftReturns = (microsoft['Close'] - microsoft['Open']) / microsoft['Open']\n",
    "amdReturns = (amd['Close'] - amd['Open']) / amd['Open']\n",
    "\n",
    "microsoftDF = pd.DataFrame(data = {'Symbol': ['MSFT'] * len(microsoftReturns),\n",
    "                                   'Return': microsoftReturns})\n",
    "amdDF = pd.DataFrame(data = {'Symbol': ['AMD'] * len(amdReturns),\n",
    "                             'Return': amdReturns})\n",
    "\n",
    "stockData = pd.concat([microsoftDF, amdDF], axis = 0)\n",
    "stockData = stockData.reset_index(drop = True)\n",
    "\n",
    "returnDirection = [''] * len(stockData)\n",
    "for i in range(len(stockData)):\n",
    "    returnDirection[i] = \"POSITIVE\" if stockData['Return'][i] >= 0 else \"NEGATIVE\"\n",
    "\n",
    "stockData['Direction'] = returnDirection\n",
    "stockData['Return'] = abs(stockData['Return'])\n",
    "print(stockData)"
   ]
  },
  {
   "cell_type": "markdown",
   "metadata": {},
   "source": [
    "Now that we have all the columns we need, we move on to graphing the returns."
   ]
  },
  {
   "cell_type": "code",
   "execution_count": 6,
   "metadata": {},
   "outputs": [
    {
     "data": {
      "text/plain": [
       "<Axes: xlabel='Symbol', ylabel='Return'>"
      ]
     },
     "execution_count": 6,
     "metadata": {},
     "output_type": "execute_result"
    },
    {
     "data": {
      "image/png": "[encoded data removed]",
      "text/plain": [
       "<Figure size 640x480 with 1 Axes>"
      ]
     },
     "metadata": {},
     "output_type": "display_data"
    }
   ],
   "source": [
    "sb.barplot(data = stockData, x = \"Symbol\", y = \"Return\", hue = \"Direction\", estimator = sum, errorbar = None)"
   ]
  },
  {
   "cell_type": "markdown",
   "metadata": {},
   "source": [
    "From the bar graph, we can see that both MSFT and AMD are generally profitable.  While AMD has significantly higher total profits, it also has significantly higher total losses.  This is why a stock like Microsoft is generally considered low-risk, while a stock like AMD is generally considered high-risk.  While both stocks appear to have about the same net-profit (AMD appears to be slightly higher), there is less volatility in Microsoft."
   ]
  },
  {
   "cell_type": "markdown",
   "metadata": {},
   "source": [
    "## Plot 4: Plotting Functions\n",
    "\n",
    "This last plot will not be a finance plot.  However, I did want to practice plotting various functions and lines-of-best-fit, especially since we will be studying linear regression shortly.\n",
    "\n",
    "We will start by generating some data."
   ]
  },
  {
   "cell_type": "code",
   "execution_count": 7,
   "metadata": {},
   "outputs": [
    {
     "data": {
      "text/plain": [
       "[<matplotlib.lines.Line2D at 0x1db4b07aad0>]"
      ]
     },
     "execution_count": 7,
     "metadata": {},
     "output_type": "execute_result"
    },
    {
     "data": {
      "image/png": "[encoded data removed]",
      "text/plain": [
       "<Figure size 640x480 with 1 Axes>"
      ]
     },
     "metadata": {},
     "output_type": "display_data"
    }
   ],
   "source": [
    "def func(x):\n",
    "    y = 3*x + 4\n",
    "    return y\n",
    "\n",
    "xvals = np.arange(0, 101, 1)\n",
    "\n",
    "mean = 0\n",
    "std = 50\n",
    "yvals = func(xvals) + np.random.normal(mean, std, 101)\n",
    "\n",
    "fig, lineplot = plt.subplots()  \n",
    "lineplot.plot(xvals, yvals, '.')\n",
    "lineplot.plot(xvals, func(xvals))"
   ]
  },
  {
   "cell_type": "markdown",
   "metadata": {},
   "source": [
    "Above, we generated data centred around a line with slope of 3 and a y-intercept of 4.  We then overlayed the actual line with slope 3 and y-intercept 4.  When we move on to linear regression, I would like to use the above structure for graphing.  However, instead of using a predetermined slope and y-intercept, these values would be calculated using regression."
   ]
  }
 ],
 "metadata": {
  "kernelspec": {
   "display_name": "CSCN8010_classic_ml",
   "language": "python",
   "name": "python3"
  },
  "language_info": {
   "codemirror_mode": {
    "name": "ipython",
    "version": 3
   },
   "file_extension": ".py",
   "mimetype": "text/x-python",
   "name": "python",
   "nbconvert_exporter": "python",
   "pygments_lexer": "ipython3",
   "version": "3.11.5"
  },
  "orig_nbformat": 4
 },
 "nbformat": 4,
 "nbformat_minor": 2
}

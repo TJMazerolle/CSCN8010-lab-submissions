{
 "cells": [
  {
   "cell_type": "markdown",
   "metadata": {},
   "source": [
    "Troy Mazerolle\n",
    "\n",
    "Student Number 8972394\n",
    "\n",
    "# CSCN 8010 Labs\n",
    "\n",
    "[Practical Lab 2 - Data Visualization and Publication](https://tjmazerolle.github.io/CSCN8010-lab-submissions/8972394/lab2.html)\n",
    "\n",
    "[Practical Lab 3 - Univariate Linear Regression](https://tjmazerolle.github.io/CSCN8010-lab-submissions/8972394/lab3.html)\n",
    "\n",
    "[Practical Lab 4]\n",
    "\n",
    "[Practical Lab 5]\n",
    "\n",
    "[Practical Lab 6]\n",
    "\n",
    "[Practical Lab 7]\n",
    "\n",
    "[Practical Lab 8]\n",
    "\n",
    "[Practical Lab 9]\n",
    "\n",
    "[Practical Lab 10]"
   ]
  }
 ],
 "metadata": {
  "kernelspec": {
   "display_name": "CSCN8010_classic_ml",
   "language": "python",
   "name": "python3"
  },
  "language_info": {
   "name": "python",
   "version": "3.11.5"
  },
  "orig_nbformat": 4
 },
 "nbformat": 4,
 "nbformat_minor": 2
}
